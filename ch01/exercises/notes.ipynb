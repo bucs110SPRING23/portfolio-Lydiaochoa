{
 "cells": [
  {
   "cell_type": "code",
   "execution_count": null,
   "metadata": {},
   "outputs": [
    {
     "ename": "",
     "evalue": "",
     "output_type": "error",
     "traceback": [
      "\u001b[1;31mFailed to start the Kernel. \n",
      "\u001b[1;31mJupyter server crashed. Unable to connect. \n",
      "\u001b[1;31mError code from Jupyter: 1\n",
      "\u001b[1;31musage: jupyter.py [-h] [--version] [--config-dir] [--data-dir] [--runtime-dir]\n",
      "\u001b[1;31m                  [--paths] [--json] [--debug]\n",
      "\u001b[1;31m                  [subcommand]\n",
      "\u001b[1;31m\n",
      "\u001b[1;31mJupyter: Interactive Computing\n",
      "\u001b[1;31m\n",
      "\u001b[1;31mpositional arguments:\n",
      "\u001b[1;31m  subcommand     the subcommand to launch\n",
      "\u001b[1;31m\n",
      "\u001b[1;31moptions:\n",
      "\u001b[1;31m  -h, --help     show this help message and exit\n",
      "\u001b[1;31m  --version      show the versions of core jupyter packages and exit\n",
      "\u001b[1;31m  --config-dir   show Jupyter config dir\n",
      "\u001b[1;31m  --data-dir     show Jupyter data dir\n",
      "\u001b[1;31m  --runtime-dir  show Jupyter runtime dir\n",
      "\u001b[1;31m  --paths        show all Jupyter paths. Add --json for machine-readable\n",
      "\u001b[1;31m                 format.\n",
      "\u001b[1;31m  --json         output paths as machine-readable json\n",
      "\u001b[1;31m  --debug        output debug information about paths\n",
      "\u001b[1;31m\n",
      "\u001b[1;31mAvailable subcommands:\n",
      "\u001b[1;31m\n",
      "\u001b[1;31mJupyter command `jupyter-notebook` not found. \n",
      "\u001b[1;31mView Jupyter <a href='command:jupyter.viewOutput'>log</a> for further details."
     ]
    }
   ],
   "source": [
    "# For loop example \n",
    "\n",
    "Msg = \"enter 3 numbers\"\n",
    "mynums = []\n",
    "\n",
    "for i in [0,0,0]:\n",
    "    var = int(input(\":\"))\n",
    "    mynums.append(var)\n",
    "    print(mynums)\n",
    "print(\"all done\")\n",
    "\n",
    "#for loop: repeats a sequential algorithm on sequential data \n",
    "#for iterating_variable in sequence \n",
    "#block statement always ends with a colon.Everything sthst is part of the blocjk is indented \n",
    "\n",
    "#colors = [\"red\", \"orange\", \"b\"lue \", \"yellow\",]\n",
    "#for c in colors \n",
    "#print(c)\n",
    "\n",
    "#list: for ch in (\"hello\") will print h e l l o \n",
    "\n",
    "mylist=[0]*100\n",
    "for_inmylist\n",
    "   print(\"happy birthday\")\n",
    "#range: range(5) = [1,2,3,4,5]\n",
    "#list generates values dynamically \n",
    "# 0 8 100 generates a lost of 100 0s and stores in in memory\n",
    "#range (100) generates items frim a list of 100 as needed \n",
    "\n",
    "result = range(5) #starts at 0, stops at 5 non-inclusive\n",
    "print(list(result)) \n"
   ]
  },
  {
   "cell_type": "code",
   "execution_count": null,
   "metadata": {},
   "outputs": [],
   "source": []
  },
  {
   "cell_type": "code",
   "execution_count": null,
   "metadata": {},
   "outputs": [],
   "source": []
  }
 ],
 "metadata": {
  "kernelspec": {
   "display_name": "Python 3",
   "language": "python",
   "name": "python3"
  },
  "language_info": {
   "name": "python",
   "version": "3.10.9"
  },
  "orig_nbformat": 4,
  "vscode": {
   "interpreter": {
    "hash": "aee8b7b246df8f9039afb4144a1f6fd8d2ca17a180786b69acc140d282b71a49"
   }
  }
 },
 "nbformat": 4,
 "nbformat_minor": 2
}
